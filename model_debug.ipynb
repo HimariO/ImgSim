{
 "cells": [
  {
   "cell_type": "code",
   "execution_count": 1,
   "source": [
    "import torch"
   ],
   "outputs": [],
   "metadata": {}
  },
  {
   "cell_type": "code",
   "execution_count": 3,
   "source": [
    "debug = torch.load('debug.pth')"
   ],
   "outputs": [],
   "metadata": {}
  },
  {
   "cell_type": "code",
   "execution_count": 4,
   "source": [
    "batch = debug['batch']\n",
    "pred = debug['predict']"
   ],
   "outputs": [],
   "metadata": {}
  },
  {
   "cell_type": "code",
   "execution_count": 5,
   "source": [
    "batch.keys()"
   ],
   "outputs": [
    {
     "output_type": "execute_result",
     "data": {
      "text/plain": [
       "dict_keys(['base_img', 'aug_imgs', 'target_corrs', 'target_mask', 'base_img_idx', 'aug_img_idx'])"
      ]
     },
     "metadata": {},
     "execution_count": 5
    }
   ],
   "metadata": {}
  },
  {
   "cell_type": "code",
   "execution_count": 6,
   "source": [
    "pred.keys()"
   ],
   "outputs": [
    {
     "output_type": "execute_result",
     "data": {
      "text/plain": [
       "dict_keys(['pred_corr_volum', 'ref_emb', 'aug_emb', 'corr_loss'])"
      ]
     },
     "metadata": {},
     "execution_count": 6
    }
   ],
   "metadata": {}
  },
  {
   "cell_type": "code",
   "execution_count": 7,
   "source": [
    "pred['pred_corr_volum'].shape"
   ],
   "outputs": [
    {
     "output_type": "execute_result",
     "data": {
      "text/plain": [
       "torch.Size([72, 16, 16, 16, 16])"
      ]
     },
     "metadata": {},
     "execution_count": 7
    }
   ],
   "metadata": {}
  },
  {
   "cell_type": "code",
   "execution_count": 10,
   "source": [
    "pred_corrs = pred['pred_corr_volum']\n",
    "pred_corrs[0].view([16*16, -1]).max(dim=-1).values"
   ],
   "outputs": [
    {
     "output_type": "execute_result",
     "data": {
      "text/plain": [
       "tensor([0.0278, 0.0318, 0.0196, 0.0000, 0.0553, 0.0603, 0.0000, 0.0500, 0.0486,\n",
       "        0.0045, 0.0059, 0.0861, 0.0331, 0.0680, 0.0000, 0.0000, 0.0084, 0.0322,\n",
       "        0.0000, 0.0011, 0.0302, 0.0168, 0.0014, 0.0446, 0.0243, 0.0378, 0.0351,\n",
       "        0.0440, 0.0000, 0.0284, 0.0000, 0.0000, 0.0000, 0.0050, 0.0000, 0.0354,\n",
       "        0.0464, 0.0578, 0.0000, 0.0000, 0.0040, 0.0000, 0.0000, 0.0619, 0.0000,\n",
       "        0.0350, 0.0593, 0.0554, 0.0023, 0.0000, 0.0000, 0.0328, 0.0766, 0.0000,\n",
       "        0.0689, 0.0442, 0.0048, 0.0481, 0.0000, 0.0106, 0.0235, 0.0000, 0.0261,\n",
       "        0.0335, 0.0374, 0.0285, 0.0101, 0.0203, 0.0014, 0.0000, 0.0141, 0.0773,\n",
       "        0.0295, 0.0000, 0.0616, 0.0000, 0.0124, 0.0184, 0.0221, 0.0255, 0.0000,\n",
       "        0.0334, 0.0478, 0.0498, 0.0199, 0.0246, 0.0263, 0.0534, 0.0200, 0.0396,\n",
       "        0.0334, 0.0309, 0.0106, 0.0444, 0.0411, 0.0246, 0.0000, 0.0000, 0.0000,\n",
       "        0.0125, 0.0279, 0.0171, 0.0372, 0.0522, 0.0345, 0.0048, 0.0239, 0.0364,\n",
       "        0.0348, 0.0000, 0.0424, 0.0117, 0.0140, 0.0372, 0.0217, 0.0000, 0.0179,\n",
       "        0.0303, 0.0000, 0.0203, 0.0737, 0.0000, 0.0455, 0.0614, 0.0000, 0.0000,\n",
       "        0.0023, 0.0349, 0.0503, 0.0468, 0.0000, 0.0277, 0.0532, 0.0129, 0.0136,\n",
       "        0.0553, 0.0641, 0.0000, 0.0651, 0.0506, 0.0032, 0.0000, 0.0328, 0.0454,\n",
       "        0.0000, 0.0000, 0.0573, 0.0000, 0.0347, 0.0070, 0.0000, 0.0357, 0.0002,\n",
       "        0.0052, 0.0204, 0.0206, 0.0342, 0.0636, 0.0000, 0.0000, 0.0000, 0.0055,\n",
       "        0.0000, 0.0109, 0.0858, 0.0261, 0.0564, 0.0596, 0.0220, 0.0200, 0.0484,\n",
       "        0.0701, 0.0000, 0.0850, 0.0318, 0.0000, 0.0303, 0.0392, 0.0000, 0.0547,\n",
       "        0.0710, 0.0385, 0.0285, 0.0579, 0.0738, 0.0000, 0.0522, 0.0545, 0.0192,\n",
       "        0.0180, 0.0088, 0.0396, 0.0515, 0.0118, 0.0038, 0.0407, 0.0000, 0.0146,\n",
       "        0.0519, 0.0442, 0.0380, 0.0404, 0.0000, 0.0860, 0.0072, 0.0000, 0.0000,\n",
       "        0.0168, 0.0244, 0.0017, 0.0000, 0.0253, 0.0561, 0.0178, 0.0000, 0.0023,\n",
       "        0.0000, 0.0289, 0.0387, 0.0000, 0.0000, 0.0446, 0.0296, 0.0000, 0.0033,\n",
       "        0.0244, 0.0480, 0.0023, 0.0000, 0.0423, 0.0081, 0.0369, 0.0402, 0.0021,\n",
       "        0.0274, 0.0044, 0.0212, 0.0000, 0.0018, 0.0281, 0.0345, 0.0156, 0.0000,\n",
       "        0.0000, 0.0000, 0.0301, 0.0000, 0.0000, 0.0284, 0.0075, 0.0143, 0.0065,\n",
       "        0.0000, 0.0293, 0.0000, 0.0000])"
      ]
     },
     "metadata": {},
     "execution_count": 10
    }
   ],
   "metadata": {}
  },
  {
   "cell_type": "code",
   "execution_count": null,
   "source": [],
   "outputs": [],
   "metadata": {}
  }
 ],
 "metadata": {
  "orig_nbformat": 4,
  "language_info": {
   "name": "python",
   "version": "3.8.10",
   "mimetype": "text/x-python",
   "codemirror_mode": {
    "name": "ipython",
    "version": 3
   },
   "pygments_lexer": "ipython3",
   "nbconvert_exporter": "python",
   "file_extension": ".py"
  },
  "kernelspec": {
   "name": "python3",
   "display_name": "Python 3.8.10 64-bit ('imgsim': conda)"
  },
  "interpreter": {
   "hash": "b8ccac80dd1372f709810c31b3c78ab78d347a80ff738324ef39009bcbb53b2e"
  }
 },
 "nbformat": 4,
 "nbformat_minor": 2
}